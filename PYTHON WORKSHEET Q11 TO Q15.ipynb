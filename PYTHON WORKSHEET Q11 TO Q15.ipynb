{
 "cells": [
  {
   "cell_type": "markdown",
   "metadata": {},
   "source": [
    "Q.)11 WRITE A PYTHON PROGRAM TO FIND THE FACTORIAL OF A NUMBER"
   ]
  },
  {
   "cell_type": "code",
   "execution_count": 26,
   "metadata": {},
   "outputs": [
    {
     "name": "stdout",
     "output_type": "stream",
     "text": [
      "Enter any number10\n",
      "The factorial of 10 is 3628800\n"
     ]
    }
   ],
   "source": [
    "no = int(input(\"Enter any number\"))\n",
    "factorial=1\n",
    "if no < 0:\n",
    "    print(\"Factorial do not exist\")\n",
    "elif no == 0:\n",
    "    print(\"Factorial is 1\")  #We all know Factorial 0! is 1\n",
    "else:\n",
    "    \n",
    "    for i in range(1,no+1):\n",
    "        factorial = factorial * i\n",
    "    print(\"The factorial of\",no,\"is\",factorial) \n",
    "\n"
   ]
  },
  {
   "cell_type": "markdown",
   "metadata": {},
   "source": [
    "Q.12 WRITE A PYTHON PROGRAM TO FIND WHETHER A NUMBER IS PRIME OR COMPOSITE"
   ]
  },
  {
   "cell_type": "code",
   "execution_count": 25,
   "metadata": {},
   "outputs": [
    {
     "name": "stdout",
     "output_type": "stream",
     "text": [
      "Enter any number: 12\n",
      "12 is composite\n"
     ]
    }
   ],
   "source": [
    "no = int(input(\"Enter any number: \"))\n",
    "\n",
    "if no > 1:\n",
    "    for i in range(2,no):\n",
    "        if (no % i) == 0:\n",
    "            print(no,\"is composite\")\n",
    "            break\n",
    "        else:\n",
    "            print(no,\"is prime\")\n",
    "            \n",
    "else:\n",
    "    \n",
    "    print(no,\"is composite\")"
   ]
  },
  {
   "cell_type": "markdown",
   "metadata": {},
   "source": [
    "Q 13. WRITE A PYTHON PROGRAM TO CHECK WHETHER THE STRING IS PALINDROME OR NOT."
   ]
  },
  {
   "cell_type": "code",
   "execution_count": 32,
   "metadata": {},
   "outputs": [
    {
     "name": "stdout",
     "output_type": "stream",
     "text": [
      "Enter string:wow\n",
      "String is a palindrome!\n"
     ]
    }
   ],
   "source": [
    "def is_palindrome(s):\n",
    "    if len(s) < 1:\n",
    "        return True\n",
    "    else:\n",
    "        if s[0] == s[-1]:\n",
    "            return is_palindrome(s[1:-1])\n",
    "        else:\n",
    "            return False\n",
    "a=str(input(\"Enter string:\"))\n",
    "if(is_palindrome(a)==True):\n",
    "    print(\"String is a palindrome!\")\n",
    "else:\n",
    "    print(\"String isn't a palindrome!\")"
   ]
  },
  {
   "cell_type": "markdown",
   "metadata": {},
   "source": [
    "Q.14 WRITE A PYTHON PROGRAM TO FIND OUT THIRD SIDE OF A RIGHT ANGLED TRIANGLE."
   ]
  },
  {
   "cell_type": "code",
   "execution_count": 34,
   "metadata": {},
   "outputs": [
    {
     "name": "stdout",
     "output_type": "stream",
     "text": [
      "Input lengths of shorter triangle sides:\n",
      "a: 6\n",
      "b: 7\n",
      "The length of the hypotenuse c is 9.219544457292887\n"
     ]
    }
   ],
   "source": [
    "from math import sqrt\n",
    "print(\"Input lengths of shorter triangle sides:\")\n",
    "a = float(input(\"a: \"))\n",
    "b = float(input(\"b: \"))\n",
    "\n",
    "c = sqrt(a**2 + b**2) # FROM PYTHAGORUS THEOREM \n",
    "print(\"The length of the hypotenuse c is\", c )"
   ]
  },
  {
   "cell_type": "markdown",
   "metadata": {},
   "source": [
    "Q.15 WRITE A PYTHON PROGRAM TO PRINT THE PREQUENCY OF EACH OF THE CHARACTER PRESENT IN THE GIVEN   STRING"
   ]
  },
  {
   "cell_type": "code",
   "execution_count": 36,
   "metadata": {},
   "outputs": [
    {
     "name": "stdout",
     "output_type": "stream",
     "text": [
      "Count of all characters in Antarctica is :\n",
      " {'A': 1, 'n': 1, 't': 2, 'a': 2, 'r': 1, 'c': 2, 'i': 1}\n"
     ]
    }
   ],
   "source": [
    "# initializing string \n",
    "_str = \"Antarctica\"\n",
    "  \n",
    "# using naive method to get count \n",
    "# of each element in string \n",
    "all_freq = {}\n",
    "  \n",
    "for i in _str:\n",
    "    if i in all_freq:\n",
    "        all_freq[i] += 1\n",
    "    else:\n",
    "        all_freq[i] = 1\n",
    "        \n",
    "print (\"Count of all characters in Antarctica is :\\n \"\n",
    "                                        +  str(all_freq))"
   ]
  },
  {
   "cell_type": "code",
   "execution_count": null,
   "metadata": {},
   "outputs": [],
   "source": []
  }
 ],
 "metadata": {
  "kernelspec": {
   "display_name": "Python 3",
   "language": "python",
   "name": "python3"
  },
  "language_info": {
   "codemirror_mode": {
    "name": "ipython",
    "version": 3
   },
   "file_extension": ".py",
   "mimetype": "text/x-python",
   "name": "python",
   "nbconvert_exporter": "python",
   "pygments_lexer": "ipython3",
   "version": "3.8.5"
  }
 },
 "nbformat": 4,
 "nbformat_minor": 4
}
